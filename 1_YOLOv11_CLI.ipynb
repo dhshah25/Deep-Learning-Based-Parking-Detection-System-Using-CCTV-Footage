{
 "cells": [
  {
   "cell_type": "code",
   "execution_count": null,
   "metadata": {
    "colab": {
     "base_uri": "https://localhost:8080/"
    },
    "id": "Y8cDtxLIBHgQ",
    "outputId": "64a4eda8-3531-4ea0-de6a-f341d225ddca"
   },
   "outputs": [],
   "source": [
    "!nvidia-smi"
   ]
  },
  {
   "cell_type": "code",
   "execution_count": null,
   "metadata": {
    "colab": {
     "base_uri": "https://localhost:8080/"
    },
    "id": "CjpPg4mGKc1v",
    "outputId": "2a21954e-1472-4495-c908-8e098072e774"
   },
   "outputs": [],
   "source": [
    "import os\n",
    "HOME = os.getcwd()\n",
    "print(HOME)"
   ]
  },
  {
   "cell_type": "markdown",
   "metadata": {
    "id": "3C3EO_2zNChu"
   },
   "source": [
    "## Install YOLO11 via Ultralytics"
   ]
  },
  {
   "cell_type": "code",
   "execution_count": null,
   "metadata": {
    "colab": {
     "base_uri": "https://localhost:8080/"
    },
    "id": "tdSMcABDNKW-",
    "outputId": "056e4991-d672-4cae-e6c6-d4827903b0af"
   },
   "outputs": [],
   "source": [
    "%pip install \"ultralytics<=8.3.40\" supervision roboflow\n",
    "import ultralytics\n",
    "ultralytics.checks()"
   ]
  },
  {
   "cell_type": "markdown",
   "metadata": {
    "id": "oSI-qYxsG6Wl"
   },
   "source": [
    "## Fine-tune our YOLO11 model on custom PKLOT dataset"
   ]
  },
  {
   "cell_type": "code",
   "execution_count": null,
   "metadata": {
    "colab": {
     "base_uri": "https://localhost:8080/"
    },
    "id": "5oxp2pwUp7JM",
    "outputId": "341f71b0-75b5-4365-82fc-bd438f66aca9"
   },
   "outputs": [],
   "source": [
    "from google.colab import drive\n",
    "drive.mount('/content/drive')"
   ]
  },
  {
   "cell_type": "code",
   "execution_count": null,
   "metadata": {
    "colab": {
     "base_uri": "https://localhost:8080/"
    },
    "id": "V4OhmTbracJg",
    "outputId": "2323e144-cca0-46fd-bfe2-7bc7457ce666"
   },
   "outputs": [],
   "source": [
    "!mkdir -p /content/datasets\n",
    "\n",
    "!unzip -o /content/drive/MyDrive/PKLot.v2-640.yolov11.zip -d /content/datasets/pk_lot_dataset\n",
    "\n",
    "DATASET_PATH=\"/content/datasets/pk_lot_dataset\"\n",
    "\n",
    "!ls {DATASET_PATH}\n",
    "\n",
    "!yolo task=detect mode=train model=yolo11s.pt data={DATASET_PATH}/data.yaml epochs=10 imgsz=640 plots=True project=/content/runs/detect name=train_exp\n",
    "\n",
    "!ls -la /content/runs/detect/train_exp\n",
    "\n",
    "!mkdir -p /content/drive/MyDrive/yolo_results\n",
    "!cp -r /content/runs/detect/train_exp /content/drive/MyDrive/yolo_results/\n"
   ]
  },
  {
   "cell_type": "markdown",
   "metadata": {
    "id": "YUjFBKKqXa-u"
   },
   "source": [
    "## Custom Training"
   ]
  },
  {
   "cell_type": "code",
   "execution_count": null,
   "metadata": {
    "colab": {
     "base_uri": "https://localhost:8080/",
     "height": 467
    },
    "id": "_J35i8Ofhjxa",
    "outputId": "876450c3-d6d5-4839-eda9-960e2f1525bf"
   },
   "outputs": [],
   "source": [
    "from IPython.display import Image as IPyImage\n",
    "\n",
    "IPyImage(filename=f'{HOME}/runs/detect/train_exp/confusion_matrix.png', width=600)"
   ]
  },
  {
   "cell_type": "code",
   "execution_count": null,
   "metadata": {
    "colab": {
     "base_uri": "https://localhost:8080/",
     "height": 317
    },
    "id": "A-urTWUkhRmn",
    "outputId": "a0069606-3dda-4c64-f143-da8baa184dbc"
   },
   "outputs": [],
   "source": [
    "from IPython.display import Image as IPyImage\n",
    "\n",
    "IPyImage(filename=f'{HOME}/runs/detect/train_exp/results.png', width=600)"
   ]
  },
  {
   "cell_type": "code",
   "execution_count": null,
   "metadata": {
    "colab": {
     "base_uri": "https://localhost:8080/",
     "height": 617
    },
    "id": "HI4nADCCj3F5",
    "outputId": "b31a9f3d-4864-4f12-c8f3-8792b6d5fa70"
   },
   "outputs": [],
   "source": [
    "from IPython.display import Image as IPyImage\n",
    "\n",
    "IPyImage(filename=f'{HOME}/runs/detect/train_exp/val_batch0_pred.jpg', width=600)"
   ]
  },
  {
   "cell_type": "markdown",
   "metadata": {
    "id": "6ODk1VTlevxn"
   },
   "source": [
    "## Validate fine-tuned model"
   ]
  },
  {
   "cell_type": "code",
   "execution_count": null,
   "metadata": {
    "colab": {
     "base_uri": "https://localhost:8080/"
    },
    "id": "YpyuwrNlXc1P",
    "outputId": "ca1cd66d-ccc1-48a5-8547-34f4dbc06b04"
   },
   "outputs": [],
   "source": [
    "!yolo task=detect mode=val model=/content/runs/detect/train_exp/weights/best.pt data=/content/datasets/pk_lot_dataset/data.yaml"
   ]
  },
  {
   "cell_type": "code",
   "execution_count": null,
   "metadata": {
    "id": "px2IdN3U4ctW"
   },
   "outputs": [],
   "source": [
    "!cp -r /content/runs/detect/predict /content/drive/MyDrive/yolo_results/"
   ]
  },
  {
   "cell_type": "code",
   "execution_count": null,
   "metadata": {
    "id": "_nIcomuG4q7g"
   },
   "outputs": [],
   "source": [
    "!cp -r /content/runs/detect/val /content/drive/MyDrive/yolo_results/"
   ]
  },
  {
   "cell_type": "code",
   "execution_count": null,
   "metadata": {
    "id": "bVgtElKN4t-B"
   },
   "outputs": [],
   "source": [
    "!cp -r /content/runs/detect/val2 /content/drive/MyDrive/yolo_results/"
   ]
  },
  {
   "cell_type": "markdown",
   "metadata": {
    "id": "i4eASbcWkQBq"
   },
   "source": [
    "## Inference with custom model"
   ]
  },
  {
   "cell_type": "code",
   "execution_count": null,
   "metadata": {
    "colab": {
     "base_uri": "https://localhost:8080/"
    },
    "id": "Wjc1ctZykYuf",
    "outputId": "f7a67f52-7c54-459c-8c53-404b4ba7d25c"
   },
   "outputs": [],
   "source": [
    "!yolo task=detect mode=predict model=/content/runs/detect/train_exp/weights/best.pt conf=0.25 source=/content/datasets/pk_lot_dataset/test/images save=True"
   ]
  },
  {
   "cell_type": "code",
   "execution_count": null,
   "metadata": {
    "id": "ImNeKL395Px1"
   },
   "outputs": [],
   "source": [
    "!cp -r /content/runs/detect/predict2 /content/drive/MyDrive/yolo_results/"
   ]
  },
  {
   "cell_type": "code",
   "execution_count": null,
   "metadata": {
    "colab": {
     "base_uri": "https://localhost:8080/",
     "height": 1000
    },
    "id": "1nOnTQynZfeA",
    "outputId": "124589f1-b5b8-4524-93f7-2716ad41f8b4"
   },
   "outputs": [],
   "source": [
    "import glob\n",
    "import os\n",
    "from IPython.display import Image as IPyImage, display\n",
    "\n",
    "latest_folder = max(glob.glob(f'{HOME}/runs/detect/predict*/'), key=os.path.getmtime)\n",
    "for img in glob.glob(f'{latest_folder}/*.jpg')[:3]:\n",
    "    display(IPyImage(filename=img, width=600))\n",
    "    print(\"\\n\")"
   ]
  },
  {
   "cell_type": "markdown",
   "metadata": {
    "id": "u8YWCH52C1wi"
   },
   "source": [
    "List of References\n",
    "1. Official Yolov11 documentation : https://docs.ultralytics.com/models/yolo11/\n",
    "2. Medium : https://medium.com/@estebanuri/training-yolov11-object-detector-on-a-custom-dataset-39bba09530ff\n",
    "3. Roboflow : https://roboflow.com/\n",
    "4. Albumentations : https://arxiv.org/abs/1809.06839\n"
   ]
  }
 ],
 "metadata": {
  "accelerator": "GPU",
  "colab": {
   "provenance": []
  },
  "gpuClass": "standard",
  "kernelspec": {
   "display_name": "Python 3 (ipykernel)",
   "language": "python",
   "name": "python3"
  },
  "language_info": {
   "codemirror_mode": {
    "name": "ipython",
    "version": 3
   },
   "file_extension": ".py",
   "mimetype": "text/x-python",
   "name": "python",
   "nbconvert_exporter": "python",
   "pygments_lexer": "ipython3",
   "version": "3.9.6"
  }
 },
 "nbformat": 4,
 "nbformat_minor": 0
}
