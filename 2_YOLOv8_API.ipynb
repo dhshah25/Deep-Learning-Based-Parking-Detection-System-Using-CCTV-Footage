{
 "cells": [
  {
   "cell_type": "code",
   "execution_count": null,
   "metadata": {
    "colab": {
     "base_uri": "https://localhost:8080/"
    },
    "id": "Z_oiPt3G_DEz",
    "outputId": "acf87c00-8068-41d7-c085-3a023386919a"
   },
   "outputs": [],
   "source": [
    "!nvidia-smi"
   ]
  },
  {
   "cell_type": "code",
   "execution_count": null,
   "metadata": {
    "colab": {
     "base_uri": "https://localhost:8080/"
    },
    "id": "lUENHqK6_Ema",
    "outputId": "f5d70546-45fb-4835-a829-0a1ca00dbc5e"
   },
   "outputs": [],
   "source": [
    "import os\n",
    "HOME = os.getcwd()\n",
    "print(HOME)"
   ]
  },
  {
   "cell_type": "code",
   "execution_count": null,
   "metadata": {
    "colab": {
     "base_uri": "https://localhost:8080/"
    },
    "id": "ygmCBjkR_GLT",
    "outputId": "cf314115-b227-4f3d-f945-400eba244def"
   },
   "outputs": [],
   "source": [
    "%pip install \"ultralytics<=8.3.40\" supervision roboflow\n",
    "import ultralytics\n",
    "ultralytics.checks()"
   ]
  },
  {
   "cell_type": "code",
   "execution_count": null,
   "metadata": {
    "colab": {
     "base_uri": "https://localhost:8080/"
    },
    "id": "92rVRbEk_lr7",
    "outputId": "1c0823ec-02e2-4c2b-82f5-d5d8c4c08f07"
   },
   "outputs": [],
   "source": [
    "from google.colab import drive\n",
    "drive.mount('/content/drive')"
   ]
  },
  {
   "cell_type": "code",
   "execution_count": null,
   "metadata": {
    "colab": {
     "base_uri": "https://localhost:8080/"
    },
    "id": "AGHGOC_lAI6X",
    "outputId": "b385464e-b9db-4628-883f-4afce38f1229"
   },
   "outputs": [],
   "source": [
    "!mkdir -p /content/datasets\n",
    "\n",
    "!unzip -o /content/drive/MyDrive/PKLot.v2-640.yolov11.zip -d /content/datasets/pk_lot_dataset\n",
    "\n",
    "DATASET_PATH=\"/content/datasets/pk_lot_dataset\"\n",
    "!ls {DATASET_PATH}\n",
    "\n",
    "!yolo task=detect mode=train model=yolov8s.pt data={DATASET_PATH}/data.yaml epochs=10 imgsz=640 plots=True project=/content/runs/detect name=train_exp\n",
    "\n",
    "!ls -la /content/runs/detect/train_exp\n",
    "\n",
    "!mkdir -p /content/drive/MyDrive/yolov8n_results\n",
    "!cp -r /content/runs/detect/train_exp /content/drive/MyDrive/yolov8n_results/from"
   ]
  },
  {
   "cell_type": "code",
   "execution_count": null,
   "metadata": {
    "colab": {
     "base_uri": "https://localhost:8080/",
     "height": 467
    },
    "id": "o-XnnhZ7AQ6o",
    "outputId": "b39f3b0a-eb39-442a-b8d2-db3231d3d80e"
   },
   "outputs": [],
   "source": [
    "from IPython.display import Image as IPyImage\n",
    "IPyImage(filename=f'{HOME}/runs/detect/train_exp/confusion_matrix.png', width=600)"
   ]
  },
  {
   "cell_type": "code",
   "execution_count": null,
   "metadata": {
    "colab": {
     "base_uri": "https://localhost:8080/",
     "height": 467
    },
    "id": "C6KKbJyjMlNZ",
    "outputId": "468c608b-5efd-4e0c-8961-15129e91173d"
   },
   "outputs": [],
   "source": [
    "from IPython.display import Image as IPyImage\n",
    "IPyImage(filename=f'{HOME}/runs/detect/train_exp/confusion_matrix_normalized.png', width=600)"
   ]
  },
  {
   "cell_type": "code",
   "execution_count": null,
   "metadata": {
    "colab": {
     "base_uri": "https://localhost:8080/",
     "height": 417
    },
    "id": "FSzb44VWMnoY",
    "outputId": "0e2e46d8-dae7-4c30-e126-7091c079376c"
   },
   "outputs": [],
   "source": [
    "from IPython.display import Image as IPyImage\n",
    "IPyImage(filename=f'{HOME}/runs/detect/train_exp/F1_curve.png', width=600)"
   ]
  },
  {
   "cell_type": "code",
   "execution_count": null,
   "metadata": {
    "colab": {
     "base_uri": "https://localhost:8080/",
     "height": 417
    },
    "id": "S4KukntYMsMy",
    "outputId": "07f2ff19-b153-4330-82ce-ab9d8b517a22"
   },
   "outputs": [],
   "source": [
    "from IPython.display import Image as IPyImage\n",
    "IPyImage(filename=f'{HOME}/runs/detect/train_exp/P_curve.png', width=600)"
   ]
  },
  {
   "cell_type": "code",
   "execution_count": null,
   "metadata": {
    "colab": {
     "base_uri": "https://localhost:8080/",
     "height": 417
    },
    "id": "tjF4HhzZMvru",
    "outputId": "b58fcb22-1e37-486c-c1d0-e77be10a56a5"
   },
   "outputs": [],
   "source": [
    "from IPython.display import Image as IPyImage\n",
    "IPyImage(filename=f'{HOME}/runs/detect/train_exp/PR_curve.png', width=600)"
   ]
  },
  {
   "cell_type": "code",
   "execution_count": null,
   "metadata": {
    "colab": {
     "base_uri": "https://localhost:8080/",
     "height": 417
    },
    "id": "OCqtZmKDM2z9",
    "outputId": "1fec1bac-0bb7-4c9e-fa34-1d5584210eff"
   },
   "outputs": [],
   "source": [
    "from IPython.display import Image as IPyImage\n",
    "IPyImage(filename=f'{HOME}/runs/detect/train_exp/R_curve.png', width=600)"
   ]
  },
  {
   "cell_type": "code",
   "execution_count": null,
   "metadata": {
    "colab": {
     "base_uri": "https://localhost:8080/",
     "height": 317
    },
    "id": "Z8ycTgZdAUDG",
    "outputId": "3715dc85-b1dd-4113-a53c-f84c73fdf794"
   },
   "outputs": [],
   "source": [
    "from IPython.display import Image as IPyImage\n",
    "IPyImage(filename=f'{HOME}/runs/detect/train_exp/results.png', width=600)"
   ]
  },
  {
   "cell_type": "code",
   "execution_count": null,
   "metadata": {
    "colab": {
     "base_uri": "https://localhost:8080/",
     "height": 617
    },
    "id": "2s9Bwi5xNGLW",
    "outputId": "412b1e01-696b-4ebb-c099-b7620758eca8"
   },
   "outputs": [],
   "source": [
    "from IPython.display import Image as IPyImage\n",
    "IPyImage(filename=f'{HOME}/runs/detect/train_exp/train_batch0.jpg', width=600)"
   ]
  },
  {
   "cell_type": "code",
   "execution_count": null,
   "metadata": {
    "colab": {
     "base_uri": "https://localhost:8080/",
     "height": 617
    },
    "id": "bTcqPUBfNJSR",
    "outputId": "cc273204-2c93-4011-eef2-efe421506d1f"
   },
   "outputs": [],
   "source": [
    "from IPython.display import Image as IPyImage\n",
    "IPyImage(filename=f'{HOME}/runs/detect/train_exp/train_batch1.jpg', width=600)"
   ]
  },
  {
   "cell_type": "code",
   "execution_count": null,
   "metadata": {
    "colab": {
     "base_uri": "https://localhost:8080/",
     "height": 617
    },
    "id": "M-J6DF9FNLoh",
    "outputId": "e46a1235-3f76-46d0-a765-46909c6bbcb3"
   },
   "outputs": [],
   "source": [
    "from IPython.display import Image as IPyImage\n",
    "IPyImage(filename=f'{HOME}/runs/detect/train_exp/train_batch2.jpg', width=600)"
   ]
  },
  {
   "cell_type": "code",
   "execution_count": null,
   "metadata": {
    "colab": {
     "base_uri": "https://localhost:8080/",
     "height": 617
    },
    "id": "52nsDAokAVZU",
    "outputId": "716520ee-20b0-4d8f-a698-776958088046"
   },
   "outputs": [],
   "source": [
    "from IPython.display import Image as IPyImage\n",
    "IPyImage(filename=f'{HOME}/runs/detect/train_exp/val_batch0_pred.jpg', width=600)"
   ]
  },
  {
   "cell_type": "code",
   "execution_count": null,
   "metadata": {
    "colab": {
     "base_uri": "https://localhost:8080/",
     "height": 617
    },
    "id": "hKJU8f2-Nfg9",
    "outputId": "a4573bb3-04c5-4854-ed21-b41d71ac8830"
   },
   "outputs": [],
   "source": [
    "from IPython.display import Image as IPyImage\n",
    "IPyImage(filename=f'{HOME}/runs/detect/train_exp/val_batch1_pred.jpg', width=600)"
   ]
  },
  {
   "cell_type": "code",
   "execution_count": null,
   "metadata": {
    "colab": {
     "base_uri": "https://localhost:8080/",
     "height": 617
    },
    "id": "w1qwtedfNhM_",
    "outputId": "4be3fe75-2e33-4443-edca-77ca21d73dcb"
   },
   "outputs": [],
   "source": [
    "from IPython.display import Image as IPyImage\n",
    "IPyImage(filename=f'{HOME}/runs/detect/train_exp/val_batch2_pred.jpg', width=600)"
   ]
  },
  {
   "cell_type": "code",
   "execution_count": null,
   "metadata": {
    "colab": {
     "base_uri": "https://localhost:8080/",
     "height": 617
    },
    "id": "4Yz6mKyfNlon",
    "outputId": "06fb2091-6e65-474c-f853-51eaa91fb3da"
   },
   "outputs": [],
   "source": [
    "from IPython.display import Image as IPyImage\n",
    "IPyImage(filename=f'{HOME}/runs/detect/train_exp/labels_correlogram.jpg', width=600)"
   ]
  },
  {
   "cell_type": "code",
   "execution_count": null,
   "metadata": {
    "colab": {
     "base_uri": "https://localhost:8080/",
     "height": 617
    },
    "id": "Bhs5gX6TNojU",
    "outputId": "86da1ec1-4153-4c70-bfd4-55a91fbacf52"
   },
   "outputs": [],
   "source": [
    "from IPython.display import Image as IPyImage\n",
    "IPyImage(filename=f'{HOME}/runs/detect/train_exp/labels.jpg', width=600)"
   ]
  },
  {
   "cell_type": "code",
   "execution_count": null,
   "metadata": {
    "colab": {
     "base_uri": "https://localhost:8080/"
    },
    "id": "fK07-8lgAWaa",
    "outputId": "64d75627-daaf-42a2-b923-30f35b86d91d"
   },
   "outputs": [],
   "source": [
    "!yolo task=detect mode=val model=/content/runs/detect/train_exp/weights/best.pt data=/content/datasets/pk_lot_dataset/data.yaml"
   ]
  },
  {
   "cell_type": "code",
   "execution_count": null,
   "metadata": {
    "colab": {
     "base_uri": "https://localhost:8080/"
    },
    "id": "9kMTMX-WAboS",
    "outputId": "66a96a91-c107-432c-e0f5-46955a1837db"
   },
   "outputs": [],
   "source": [
    "!cp -r /content/runs/detect/predict /content/drive/MyDrive/yolov8n_results/\n",
    "!cp -r /content/runs/detect/val /content/drive/MyDrive/yolov8n_results/\n",
    "!cp -r /content/runs/detect/val2 /content/drive/MyDrive/yolov8n_results/"
   ]
  },
  {
   "cell_type": "code",
   "execution_count": null,
   "metadata": {
    "colab": {
     "base_uri": "https://localhost:8080/"
    },
    "id": "xjwynvIDAh6X",
    "outputId": "2427475c-8bf6-450d-ec38-377d0fbaa3c6"
   },
   "outputs": [],
   "source": [
    "!yolo task=detect mode=predict model=/content/runs/detect/train_exp/weights/best.pt conf=0.25 source=/content/datasets/pk_lot_dataset/test/images save=True"
   ]
  },
  {
   "cell_type": "code",
   "execution_count": null,
   "metadata": {
    "id": "DSqM47-_Als0"
   },
   "outputs": [],
   "source": [
    "!cp -r /content/runs/detect/predict2 /content/drive/MyDrive/yolov8n_results/"
   ]
  },
  {
   "cell_type": "code",
   "execution_count": null,
   "metadata": {
    "colab": {
     "base_uri": "https://localhost:8080/",
     "height": 1000
    },
    "id": "v1ycqP0AAq2_",
    "outputId": "82096652-4c1d-42f6-a280-c4e2c96b90f8"
   },
   "outputs": [],
   "source": [
    "import glob\n",
    "import os\n",
    "from IPython.display import Image as IPyImage, display\n",
    "\n",
    "latest_folder = max(glob.glob(f'{HOME}/runs/detect/predict*/'), key=os.path.getmtime)\n",
    "for img in glob.glob(f'{latest_folder}/*.jpg')[:3]:\n",
    "    display(IPyImage(filename=img, width=600))\n",
    "    print(\"\\n\")"
   ]
  },
  {
   "cell_type": "markdown",
   "metadata": {
    "id": "in3N4n4q9NIq"
   },
   "source": [
    "List of References\n",
    "1. PKLot Dataset(https://gts.ai/dataset-download/pklot-dataset/)\n",
    "2. Yolov8 Documentation by Ultralytics - (https://docs.ultralytics.com/)\n",
    "3. YoloV8 paper - (https://ieeexplore.ieee.org/document/10533619/)\n",
    "4. Hyper-parmeter tuning for DL models(https://arxiv.org/abs/2003.13678)\n",
    "5. Ultralytics official GH Repo(https://github.com/ultralytics/ultralytics)"
   ]
  }
 ],
 "metadata": {
  "accelerator": "GPU",
  "colab": {
   "gpuType": "T4",
   "provenance": []
  },
  "kernelspec": {
   "display_name": "Python 3",
   "name": "python3"
  },
  "language_info": {
   "name": "python"
  }
 },
 "nbformat": 4,
 "nbformat_minor": 0
}
