{
 "cells": [
  {
   "cell_type": "code",
   "execution_count": null,
   "metadata": {
    "colab": {
     "base_uri": "https://localhost:8080/"
    },
    "id": "bhkznbN_nKqU",
    "outputId": "594967b9-4941-4ea2-f410-5ae9e9c71129"
   },
   "outputs": [],
   "source": [
    "from google.colab import drive\n",
    "drive.mount('/content/drive')\n"
   ]
  },
  {
   "cell_type": "code",
   "execution_count": null,
   "metadata": {
    "id": "PwyGVbBBnMZ_"
   },
   "outputs": [],
   "source": [
    "!mkdir -p /content/datasets/pk_lot\n",
    "!unzip -q -o /content/drive/MyDrive/PKLot.v2-640.yolov11.zip \\\n",
    "    -d /content/datasets/pk_lot\n"
   ]
  },
  {
   "cell_type": "code",
   "execution_count": null,
   "metadata": {
    "colab": {
     "base_uri": "https://localhost:8080/"
    },
    "id": "xxKFkwf7oTyC",
    "outputId": "b503ecf8-24ac-4230-ffb2-a552ff38cf51"
   },
   "outputs": [],
   "source": [
    "import yaml\n",
    "\n",
    "DATA_ROOT = '/content/datasets/pk_lot'\n",
    "with open(f\"{DATA_ROOT}/data.yaml\") as f:\n",
    "    cfg = yaml.safe_load(f)\n",
    "\n",
    "classes = cfg['names']\n",
    "print(\"Classes:\", classes)\n"
   ]
  },
  {
   "cell_type": "code",
   "execution_count": null,
   "metadata": {
    "colab": {
     "base_uri": "https://localhost:8080/"
    },
    "id": "ke_y6I4Nsv0f",
    "outputId": "de41502e-5d7e-4434-affc-21303fd3f235"
   },
   "outputs": [],
   "source": [
    "import os\n",
    "SPLITS = {\n",
    "    'train': {'imgs': os.path.join(DATA_ROOT, 'train', 'images'),\n",
    "              'lbls': os.path.join(DATA_ROOT, 'train', 'labels')},\n",
    "    'valid':{'imgs': os.path.join(DATA_ROOT, 'valid', 'images'),\n",
    "             'lbls': os.path.join(DATA_ROOT, 'valid', 'labels')},\n",
    "    'test' :{'imgs': os.path.join(DATA_ROOT, 'test', 'images'),\n",
    "             'lbls': os.path.join(DATA_ROOT, 'test', 'labels')},\n",
    "}\n",
    "\n",
    "for split, p in SPLITS.items():\n",
    "    print(f\"{split:5}: {len(os.listdir(p['imgs']))} images, {len(os.listdir(p['lbls']))} labels\")\n"
   ]
  },
  {
   "cell_type": "code",
   "execution_count": null,
   "metadata": {
    "colab": {
     "base_uri": "https://localhost:8080/"
    },
    "id": "D0iUWp2Aszg-",
    "outputId": "7d6cd57c-80e1-4305-a018-281d8001add1"
   },
   "outputs": [],
   "source": [
    "import glob\n",
    "from PIL import Image\n",
    "\n",
    "one = glob.glob(f\"{SPLITS['train']['imgs']}/*.*\")[0]\n",
    "w,h = Image.open(one).size\n",
    "imgsz = max(w, h)\n",
    "print(f\"Using imgsz = {w}×{h}\")\n"
   ]
  },
  {
   "cell_type": "code",
   "execution_count": null,
   "metadata": {
    "colab": {
     "base_uri": "https://localhost:8080/"
    },
    "id": "8VP-nKrrmjnE",
    "outputId": "e171d064-17aa-498c-c424-6f0552e1f8f0"
   },
   "outputs": [],
   "source": [
    "!pip install -q rfdetr==1.1.0 supervision pyyaml"
   ]
  },
  {
   "cell_type": "code",
   "execution_count": null,
   "metadata": {
    "colab": {
     "base_uri": "https://localhost:8080/"
    },
    "id": "1twsCkqxs3sq",
    "outputId": "d1e2fe21-3cd6-4377-de30-3766058e5336"
   },
   "outputs": [],
   "source": [
    "import json, glob, os\n",
    "from PIL import Image\n",
    "\n",
    "def convert_yolo_to_coco(split):\n",
    "    img_dir = SPLITS[split]['imgs']\n",
    "    lbl_dir = SPLITS[split]['lbls']\n",
    "    out_json = os.path.join(DATA_ROOT, split, '_annotations.coco.json')\n",
    "\n",
    "    images, annotations = [], []\n",
    "    ann_id = 0\n",
    "\n",
    "    for img_id, img_path in enumerate(sorted(glob.glob(f\"{img_dir}/*.*\"))):\n",
    "        fn = os.path.basename(img_path)\n",
    "        w, h = Image.open(img_path).size\n",
    "\n",
    "        images.append({\n",
    "            'id': img_id,\n",
    "            'file_name': f\"images/{fn}\",\n",
    "            'width': w,\n",
    "            'height': h\n",
    "        })\n",
    "\n",
    "        lbl_file = os.path.join(lbl_dir, fn.replace(os.path.splitext(fn)[1], '.txt'))\n",
    "        if os.path.exists(lbl_file):\n",
    "            for line in open(lbl_file):\n",
    "                cls, xc, yc, bw, bh = line.split()\n",
    "                cls = int(cls)\n",
    "                xc, yc, bw, bh = map(float, (xc, yc, bw, bh))\n",
    "                x = (xc - bw/2) * w\n",
    "                y = (yc - bh/2) * h\n",
    "                width  = bw * w\n",
    "                height = bh * h\n",
    "                annotations.append({\n",
    "                    'id': ann_id,\n",
    "                    'image_id': img_id,\n",
    "                    'category_id': cls,\n",
    "                    'bbox': [x, y, width, height],\n",
    "                    'area': width * height,\n",
    "                    'iscrowd': 0\n",
    "                })\n",
    "                ann_id += 1\n",
    "\n",
    "    categories = [\n",
    "        {'id': i, 'name': name, 'supercategory': 'none'}\n",
    "        for i, name in enumerate(classes)\n",
    "    ]\n",
    "\n",
    "    coco = {'images': images, 'annotations': annotations, 'categories': categories}\n",
    "    with open(out_json, 'w') as f:\n",
    "        json.dump(coco, f)\n",
    "    print(f\"[{split}] {len(images)} images, {ann_id} annotations → {out_json}\")\n",
    "\n",
    "for split in SPLITS:\n",
    "    convert_yolo_to_coco(split)\n"
   ]
  },
  {
   "cell_type": "code",
   "execution_count": null,
   "metadata": {
    "id": "hei1ECpAs8iS"
   },
   "outputs": [],
   "source": [
    "import os\n",
    "from rfdetr import RFDETRBase\n",
    "import supervision as sv\n",
    "from tqdm import tqdm\n",
    "import matplotlib.pyplot as plt\n",
    "from supervision.metrics import MeanAveragePrecision\n",
    "\n",
    "RUN_DIR  = '/content/drive/MyDrive/rfdetr_pklot_run'\n",
    "CKPT_DIR = os.path.join(RUN_DIR, 'checkpoint')\n",
    "os.makedirs(CKPT_DIR, exist_ok=True)\n"
   ]
  },
  {
   "cell_type": "code",
   "execution_count": null,
   "metadata": {
    "colab": {
     "base_uri": "https://localhost:8080/",
     "height": 1000,
     "referenced_widgets": [
      "e115c9ba13f34763990f3b9026c32e25",
      "a4a860a58b524a8589cc0db84c0b191f",
      "0846a50af0814af8a33d3edbc9f39209",
      "33ce0d616b034c9d9c614f6e2df0d3e5",
      "042f52f3ea264ec7b034b59823bffdbe",
      "47654a8b519f4817b4611f3a6b44f310",
      "08caea80cf364f059d7dc7e1ac745b8d",
      "27fda11ed3934552b1a9a0235bf0a643",
      "e46b441e59144b8a9e562c001a6572ce",
      "70039fda22ae4773ae36defffb6b3fe8",
      "5708b7a7acd04223a3e5e721a86d456e",
      "2953a0f267d9416e851cd90e0cf7ae34",
      "31b8b6541d8949508fa3bbd6542e53db",
      "122d4bbc03894ce78952d89d262df645",
      "4cbeba6c08524f3bbbb1bb5d6f6cacf4",
      "4ed765ba86a74a35b2f8fe3c4813bb98",
      "350d12d3642249a7b83091b23ac38b60",
      "90681ab4b3b84935b481a77e63a38770",
      "64aede440477436080cf02cfa3ee9808",
      "6a7dd90a29d147fb883b960693d2bb99",
      "dd04cd12e767428db340ee82a929df05",
      "910f6cfb02444d13a503fada7804f739"
     ]
    },
    "id": "tVisZOBBvStA",
    "outputId": "546807ab-0e48-442e-d32a-e740cfbc8cba"
   },
   "outputs": [],
   "source": [
    "model = RFDETRBase()\n",
    "model.train(\n",
    "    dataset_dir        = DATA_ROOT,\n",
    "    epochs             = 3,\n",
    "    batch_size         = 8,\n",
    "    grad_accum_steps   = 2,\n",
    "    lr                 = 1e-4,\n",
    "    imgsz              = imgsz,\n",
    "    fp16               = True,\n",
    "    dataloader_workers = 8\n",
    ")\n"
   ]
  },
  {
   "cell_type": "code",
   "execution_count": null,
   "metadata": {
    "colab": {
     "base_uri": "https://localhost:8080/",
     "height": 746
    },
    "id": "Wp1Kohso9QZQ",
    "outputId": "00ef68dc-a1a9-40ce-d9b8-625ea717c217"
   },
   "outputs": [],
   "source": [
    "from PIL import Image\n",
    "\n",
    "Image.open(\"/content/output/metrics_plot.png\")"
   ]
  },
  {
   "cell_type": "code",
   "execution_count": null,
   "metadata": {
    "colab": {
     "base_uri": "https://localhost:8080/"
    },
    "id": "sj7TeJa-3rYk",
    "outputId": "428271ac-5199-4dab-b60e-cf46ac6919da"
   },
   "outputs": [],
   "source": [
    "import torch, os, yaml\n",
    "\n",
    "os.makedirs(CKPT_DIR, exist_ok=True)\n",
    "\n",
    "torch.save(model, os.path.join(CKPT_DIR, \"rf_detr_base_full.pt\"))\n",
    "\n",
    "with open(os.path.join(CKPT_DIR, \"training_config.yaml\"), \"w\") as f:\n",
    "    yaml.safe_dump({\n",
    "        \"imgsz\": imgsz,\n",
    "        \"batch_size\": 8,\n",
    "        \"epochs\": 5,\n",
    "        \"lr\": 1e-4,\n",
    "        \"classes\": classes\n",
    "    }, f)\n",
    "\n",
    "print(\"checkpoint saved to\", CKPT_DIR)\n"
   ]
  },
  {
   "cell_type": "code",
   "execution_count": null,
   "metadata": {
    "id": "UD2lP_2l7duu"
   },
   "outputs": [],
   "source": [
    "import os\n",
    "import supervision as sv\n",
    "from PIL import Image\n",
    "from tqdm import tqdm\n",
    "import matplotlib.pyplot as plt\n",
    "from supervision.metrics import MeanAveragePrecision\n",
    "\n",
    "DATA_ROOT = '/content/datasets/pk_lot'\n",
    "RUN_DIR   = '/content/drive/MyDrive/rfdetr_pklot_run'"
   ]
  },
  {
   "cell_type": "code",
   "execution_count": null,
   "metadata": {
    "colab": {
     "base_uri": "https://localhost:8080/"
    },
    "id": "9wTovCMX7hGX",
    "outputId": "d83341d3-ae95-46d6-e2cd-4c760f5cab17"
   },
   "outputs": [],
   "source": [
    "eval_model = model\n",
    "\n",
    "ds = sv.DetectionDataset.from_coco(\n",
    "    images_directory_path = os.path.join(DATA_ROOT, 'test'),\n",
    "    annotations_path      = os.path.join(DATA_ROOT, 'test', '_annotations.coco.json'),\n",
    ")\n",
    "print(\"Test classes:\", ds.classes)\n",
    "print(\"Number of test images:\", len(ds))"
   ]
  },
  {
   "cell_type": "code",
   "execution_count": null,
   "metadata": {
    "colab": {
     "base_uri": "https://localhost:8080/"
    },
    "id": "cYbHU8Jr7jf_",
    "outputId": "08ee7303-8cd1-4cce-8a60-10fd87f38de8"
   },
   "outputs": [],
   "source": [
    "preds, targets = [], []\n",
    "for img_path, _, ann in tqdm(ds, desc=\"Inferencing\"):\n",
    "    img  = Image.open(img_path)\n",
    "    dets = eval_model.predict(img, threshold=0.5)\n",
    "    preds.append(dets)\n",
    "    targets.append(ann)"
   ]
  },
  {
   "cell_type": "code",
   "execution_count": null,
   "metadata": {
    "colab": {
     "base_uri": "https://localhost:8080/",
     "height": 624
    },
    "id": "bxo6zDTK7mgs",
    "outputId": "99d1c689-4918-4415-83e4-d7ae6d3bf3c0"
   },
   "outputs": [],
   "source": [
    "map_metric = MeanAveragePrecision()\n",
    "res        = map_metric.update(preds, targets).compute()\n",
    "\n",
    "res.plot()\n",
    "plt.gcf().savefig(os.path.join(RUN_DIR,'mAP.png'), bbox_inches='tight')\n",
    "plt.close()\n",
    "print(\"mAP plot → mAP.png\")"
   ]
  },
  {
   "cell_type": "code",
   "execution_count": null,
   "metadata": {
    "colab": {
     "base_uri": "https://localhost:8080/"
    },
    "id": "f2MQvRzp7qKT",
    "outputId": "cec6d4e2-35d6-4d75-9321-43dd5763fcd0"
   },
   "outputs": [],
   "source": [
    "cm = sv.ConfusionMatrix.from_detections(\n",
    "    predictions = preds,\n",
    "    targets     = targets,\n",
    "    classes     = ds.classes\n",
    ")\n",
    "cm.plot()\n",
    "plt.gcf().savefig(os.path.join(RUN_DIR,'confusion_matrix.png'), bbox_inches='tight')\n",
    "plt.close()\n",
    "print(\"Confusion matrix → confusion_matrix.png\")"
   ]
  },
  {
   "cell_type": "code",
   "execution_count": null,
   "metadata": {
    "colab": {
     "base_uri": "https://localhost:8080/",
     "height": 977
    },
    "id": "BJe_VraK7zc1",
    "outputId": "9feb0569-cf9c-40cd-9595-53d88e61cb9c"
   },
   "outputs": [],
   "source": [
    "from IPython.display import Image, display\n",
    "import os\n",
    "\n",
    "conf_mat_path = os.path.join(RUN_DIR, 'confusion_matrix.png')\n",
    "display( Image(filename=conf_mat_path) )"
   ]
  },
  {
   "cell_type": "code",
   "execution_count": null,
   "metadata": {
    "colab": {
     "base_uri": "https://localhost:8080/",
     "height": 482
    },
    "id": "mcnufeo37tup",
    "outputId": "400be3e3-7e2d-4627-b4a6-946c8a94a38f"
   },
   "outputs": [],
   "source": [
    "path, _, ann = ds[0]\n",
    "img          = Image.open(path)\n",
    "dets         = eval_model.predict(img, threshold=0.5)\n",
    "\n",
    "ts = sv.calculate_optimal_text_scale(resolution_wh=img.size)\n",
    "th = sv.calculate_optimal_line_thickness(resolution_wh=img.size)\n",
    "ba = sv.BoxAnnotator(thickness=th)\n",
    "la = sv.LabelAnnotator(\n",
    "    text_color     = sv.Color.BLACK,\n",
    "    text_scale     = ts,\n",
    "    text_thickness = th,\n",
    "    smart_position = True\n",
    ")\n",
    "\n",
    "gt_lbls = [f\"{ds.classes[c]}\"        for c in ann.class_id]\n",
    "dt_lbls = [f\"{ds.classes[c]} {p:.2f}\" for c,p in zip(dets.class_id, dets.confidence)]\n",
    "\n",
    "gt_img = ba.annotate(img.copy(), ann)\n",
    "gt_img = la.annotate(gt_img, ann, gt_lbls)\n",
    "dt_img = ba.annotate(img.copy(), dets)\n",
    "dt_img = la.annotate(dt_img, dets, dt_lbls)\n",
    "\n",
    "sv.plot_images_grid(\n",
    "    images    = [gt_img, dt_img],\n",
    "    grid_size = (1, 2),\n",
    "    titles    = [\"Ground-Truth\", \"Detection\"]\n",
    ")"
   ]
  },
  {
   "cell_type": "code",
   "execution_count": null,
   "metadata": {
    "colab": {
     "base_uri": "https://localhost:8080/",
     "height": 978
    },
    "id": "A7AWyywm7XCH",
    "outputId": "f7817363-3d70-4c9f-962c-2b9d32d01e14"
   },
   "outputs": [],
   "source": [
    "det_images = []\n",
    "for i in range(min(9, len(ds))):\n",
    "    p, _, _ = ds[i]\n",
    "    im      = Image.open(p)\n",
    "    d       = eval_model.predict(im, threshold=0.5)\n",
    "    o       = ba.annotate(im.copy(), d)\n",
    "    o       = la.annotate(o, d, [f\"{ds.classes[c]} {conf:.2f}\"\n",
    "                                 for c,conf in zip(d.class_id, d.confidence)])\n",
    "    det_images.append(o)\n",
    "\n",
    "sv.plot_images_grid(images=det_images, grid_size=(3,3), size=(12,12))\n",
    "plt.gcf().savefig(os.path.join(RUN_DIR, 'detections_grid.png'), bbox_inches='tight')\n",
    "plt.close()\n",
    "print(\"Detections grid → detections_grid.png\")\n"
   ]
  },
  {
   "cell_type": "code",
   "execution_count": null,
   "metadata": {
    "id": "7iEu20HG8o-V"
   },
   "outputs": [],
   "source": [
    "!cp -r /content/output /content/drive/MyDrive/rfdetr_pklot_run/output"
   ]
  },
  {
   "cell_type": "code",
   "execution_count": null,
   "metadata": {
    "colab": {
     "base_uri": "https://localhost:8080/"
    },
    "id": "iUleL0er_Lkk",
    "outputId": "84495694-0cc5-4ea4-e53b-5e6767056f9d"
   },
   "outputs": [],
   "source": [
    "import torch, os\n",
    "\n",
    "os.makedirs(CKPT_DIR, exist_ok=True)\n",
    "\n",
    "torch.save(model.model, os.path.join(CKPT_DIR, \"model_module.pth\"))\n",
    "print(\" model_module.pth saved →\", CKPT_DIR)"
   ]
  },
  {
   "cell_type": "markdown",
   "metadata": {
    "id": "UtSf8BXlBO_E"
   },
   "source": [
    "## References:\n",
    "RF-DETR: https://github.com/roboflow/rfdetr  \n",
    "Supervision: https://github.com/roboflow/supervision  \n",
    "PyYAML: https://pyyaml.org/wiki/PyYAMLDocumentation  \n",
    "PyTorch: https://pytorch.org/docs/  \n",
    "tqdm: https://tqdm.github.io/  \n",
    "Matplotlib: https://matplotlib.org/stable/users/"
   ]
  }
 ],
 "metadata": {
  "accelerator": "GPU",
  "colab": {
   "gpuType": "A100",
   "provenance": []
  },
  "kernelspec": {
   "display_name": "Python 3",
   "name": "python3"
  },
  "language_info": {
   "name": "python"
  }
 },
 "nbformat": 4,
 "nbformat_minor": 0
}
